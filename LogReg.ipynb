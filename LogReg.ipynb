{
 "cells": [
  {
   "cell_type": "markdown",
   "id": "e0dca389-9c09-4c6b-a391-83f43093454d",
   "metadata": {},
   "source": [
    "## Imports"
   ]
  },
  {
   "cell_type": "code",
   "execution_count": 20,
   "id": "e97beb40-9c6e-4e48-bc56-d402055ea1a6",
   "metadata": {
    "tags": []
   },
   "outputs": [],
   "source": [
    "import numpy as np"
   ]
  },
  {
   "cell_type": "markdown",
   "id": "2186ad1f-7616-4741-8373-368310d1beab",
   "metadata": {},
   "source": [
    "## First classfy with z to see the split and then pass into sigmoid function to map between zero and 1"
   ]
  },
  {
   "cell_type": "code",
   "execution_count": 19,
   "id": "7fc99a0d-bcc6-454d-88a2-1776b56bc535",
   "metadata": {},
   "outputs": [],
   "source": [
    "def sigmoid_function(z):\n",
    "    output = 1 / (1 + np.exp(-z))\n",
    "    return output\n",
    "                  "
   ]
  },
  {
   "cell_type": "markdown",
   "id": "5b7c55f3-1032-40a1-b8ca-f8776140665e",
   "metadata": {},
   "source": [
    "## The above function should return the decimal between zero and one once called here this computes the intial z value to classify and then use sigmoid to map"
   ]
  },
  {
   "cell_type": "code",
   "execution_count": 18,
   "id": "ace014e5-3525-473a-845f-b4b25687fc13",
   "metadata": {},
   "outputs": [],
   "source": [
    "def linear(W, b, X):\n",
    "    z = np.dot(X, W) + b \n",
    "    return sigmoid(z)"
   ]
  },
  {
   "cell_type": "markdown",
   "id": "64956125-9cf8-4056-a93e-d5e3b9a1186b",
   "metadata": {},
   "source": [
    "## This is applying the loss function mean is to normalize the distribution and represents 1/n in the formula"
   ]
  },
  {
   "cell_type": "code",
   "execution_count": 17,
   "id": "937abfce-f4cf-4e2e-bb47-e8c8b04f1c47",
   "metadata": {},
   "outputs": [],
   "source": [
    "def loss(y, y_pred):\n",
    "    return -np.mean(y * np.log(y_pred) + (1 - y) * np.log(1 - y_pred))"
   ]
  },
  {
   "cell_type": "markdown",
   "id": "916b93af-3f84-4fe2-971d-fe2b6e9a164c",
   "metadata": {},
   "source": [
    "## Iterating function to find the change using gradient formula"
   ]
  },
  {
   "cell_type": "code",
   "execution_count": 16,
   "id": "4b4abda7-1826-41ae-ae41-9299c894dc71",
   "metadata": {},
   "outputs": [],
   "source": [
    "def gradient(X, y, y_pred):\n",
    "    m = len(y)\n",
    "    dW = np.dot(X.T, (y_pred - y)) / m\n",
    "    db = np.sum(y_pred - y) / m\n",
    "    return dW, db"
   ]
  },
  {
   "cell_type": "markdown",
   "id": "9f5984db-8de5-4161-bdd4-7404a8c59f54",
   "metadata": {},
   "source": [
    "## Step 1: define inputs such as x and y points\n",
    "## Step 2: calculate z through the function about\n",
    "## Step 3: Map to sigmoid function\n",
    "## Step 4: Apply the new gradient descent iterations"
   ]
  }
 ],
 "metadata": {
  "kernelspec": {
   "display_name": "Python 3 (ipykernel)",
   "language": "python",
   "name": "python3"
  },
  "language_info": {
   "codemirror_mode": {
    "name": "ipython",
    "version": 3
   },
   "file_extension": ".py",
   "mimetype": "text/x-python",
   "name": "python",
   "nbconvert_exporter": "python",
   "pygments_lexer": "ipython3",
   "version": "3.12.7"
  }
 },
 "nbformat": 4,
 "nbformat_minor": 5
}
